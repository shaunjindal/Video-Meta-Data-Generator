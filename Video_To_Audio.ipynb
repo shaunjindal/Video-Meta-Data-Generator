{
 "cells": [
  {
   "cell_type": "markdown",
   "metadata": {},
   "source": [
    "Video To Text"
   ]
  },
  {
   "cell_type": "markdown",
   "metadata": {},
   "source": [
    "This Is Module Is to extract text from the video"
   ]
  },
  {
   "cell_type": "code",
   "execution_count": null,
   "metadata": {},
   "outputs": [],
   "source": [
    "import moviepy.editor as mp\n",
    "import speech_recognition as sr"
   ]
  },
  {
   "cell_type": "code",
   "execution_count": null,
   "metadata": {},
   "outputs": [],
   "source": [
    "from moviepy.video.io.ffmpeg_tools import ffmpeg_extract_subclip"
   ]
  },
  {
   "cell_type": "code",
   "execution_count": null,
   "metadata": {},
   "outputs": [],
   "source": [
    "import cv2"
   ]
  },
  {
   "cell_type": "markdown",
   "metadata": {},
   "source": [
    "Extracting Audio From Video\n",
    "In order to extract Text we first have to recognize the speech from video i.e. extract audio from it.\n",
    "Expected video format is MP4."
   ]
  },
  {
   "cell_type": "code",
   "execution_count": null,
   "metadata": {},
   "outputs": [],
   "source": [
    "videoFile=mp.VideoFileClip(r\"sample_video.mp4\")\n",
    "video_duration=int(videoFile.duration)\n",
    "clipings=list(range(0,video_duration+1,60))\n",
    "\n",
    "\n",
    "#videoFile.audio.write_audiofile(r\"extracted.wav\")"
   ]
  },
  {
   "cell_type": "code",
   "execution_count": null,
   "metadata": {},
   "outputs": [],
   "source": [
    "for i in range(len(clipings)-1):\n",
    "    ffmpeg_extract_subclip(r\"sample_video.mp4\", clipings[i]-2*(clipings[i]!=0), clipings[i+1], targetname=r\"videochunks/cut{}.mp4\".format(i+1))\n",
    "    #clip = mp.VideoFileClip(r\"videochunks/cut{}.mp4\".format(i+1)) "
   ]
  },
  {
   "cell_type": "code",
   "execution_count": null,
   "metadata": {},
   "outputs": [],
   "source": [
    "for i in range(len(clipings)-1):\n",
    "    clip = mp.VideoFileClip(r\"videochunks/cut{}.mp4\".format(i+1)) \n",
    "    clip.audio.write_audiofile(r\"audiochunks/converted{}.wav\".format(i+1))\n",
    "    "
   ]
  },
  {
   "cell_type": "code",
   "execution_count": null,
   "metadata": {},
   "outputs": [],
   "source": [
    "text_chunks={}"
   ]
  },
  {
   "cell_type": "code",
   "execution_count": null,
   "metadata": {},
   "outputs": [],
   "source": [
    "for i in range(len(clipings)-1):\n",
    "    recognizer = sr.Recognizer()\n",
    "    audio = sr.AudioFile(r\"audiochunks/converted{}.wav\".format(i+1))\n",
    "    print(\"Started\",i)\n",
    "    with audio as source:\n",
    "      recognizer.adjust_for_ambient_noise(source)  \n",
    "      audio_file = recognizer.record(source)\n",
    "    result = recognizer.recognize_google(audio_file, show_all = True)\n",
    "    print(\"Completed\",i,result)\n",
    "    text_chunks['chunk{}'.format(i+1)]=result"
   ]
  },
  {
   "cell_type": "code",
   "execution_count": null,
   "metadata": {},
   "outputs": [],
   "source": [
    "result"
   ]
  },
  {
   "cell_type": "code",
   "execution_count": null,
   "metadata": {},
   "outputs": [],
   "source": [
    "type(text_chunks)"
   ]
  },
  {
   "cell_type": "code",
   "execution_count": null,
   "metadata": {},
   "outputs": [],
   "source": [
    "l_chunks=[text_chunks[r'chunk{}'.format(i+1)] for i in range(len(text_chunks))]\n",
    "text=\" \".join(l_chunks)\n",
    "\n",
    "with open(r'recognized.txt',mode ='w') as file: \n",
    "   file.write(\"Recognized Speech:\") \n",
    "   file.write(\"\\n\") \n",
    "   file.write(text) \n",
    "   print(\"ready!\")"
   ]
  },
  {
   "cell_type": "code",
   "execution_count": null,
   "metadata": {},
   "outputs": [],
   "source": [
    "len(text_chunks)"
   ]
  },
  {
   "cell_type": "code",
   "execution_count": null,
   "metadata": {},
   "outputs": [],
   "source": [
    "recognizer=sr.Recognizer()"
   ]
  },
  {
   "cell_type": "code",
   "execution_count": null,
   "metadata": {},
   "outputs": [],
   "source": [
    "extractedAudio=sr.AudioFile(r\"extracted.wav\")"
   ]
  }
 ],
 "metadata": {
  "interpreter": {
   "hash": "ebf2ab6755d30e2719fe386a08d5ad74bdbad70b5d3ac77c4747f811574aa53d"
  },
  "kernelspec": {
   "display_name": "Python 3.8.5 ('base')",
   "language": "python",
   "name": "python3"
  },
  "language_info": {
   "codemirror_mode": {
    "name": "ipython",
    "version": 3
   },
   "file_extension": ".py",
   "mimetype": "text/x-python",
   "name": "python",
   "nbconvert_exporter": "python",
   "pygments_lexer": "ipython3",
   "version": "3.8.5"
  },
  "orig_nbformat": 4
 },
 "nbformat": 4,
 "nbformat_minor": 2
}
